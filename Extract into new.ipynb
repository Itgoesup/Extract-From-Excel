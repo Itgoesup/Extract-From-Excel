{
 "cells": [
  {
   "cell_type": "code",
   "execution_count": 18,
   "id": "ec642484",
   "metadata": {
    "scrolled": true
   },
   "outputs": [
    {
     "name": "stdout",
     "output_type": "stream",
     "text": [
      "row number 1 has been skipped!\n",
      "row number 3 has been skipped!\n"
     ]
    }
   ],
   "source": [
    "import openpyxl\n",
    "\n",
    "wb_source=openpyxl.load_workbook(\"Combined To-Extract.xlsx\")\n",
    "\n",
    "#CLOSE ALL FILES YOU ARE ABOUT TO ACCESS\n",
    "\n",
    "#SELECT YOUR PARAMETERS HERE:\n",
    "Sheet_name='Master Sheet'\n",
    "Which_to_find='Pre-Award'\n",
    "New_Sheet_Name='target'\n",
    "\n",
    "#Choose Sheet in Workbook\n",
    "sheet_source=wb_source[Sheet_name]\n",
    "\n",
    "#Create new workbook for target Excel File\n",
    "wb_target=openpyxl.Workbook()\n",
    "\n",
    "#Create a new sheet in target Excel file\n",
    "sheet_target=wb_target.active\n",
    "\n",
    "def main(i):\n",
    "    '''This begins by extracting the header from the first excel row'''\n",
    "    Initial_extraction(i)\n",
    "\n",
    "#Extract headers from the start\n",
    "def Initial_extraction(i):\n",
    "    for row in sheet_source.iter_rows():\n",
    "            if row[34].value=='Pre-Award or Post Award?':\n",
    "                values=[cell.value for cell in row]\n",
    "                sheet_target.append(values)\n",
    "    Column_extraction(i)\n",
    "    \n",
    "#Find the value in source sheet\n",
    "def Column_extraction(i):\n",
    "    '''This finds any string/word that matches your input and\n",
    "    appends them to the new sheet'''\n",
    "    for row in sheet_source.iter_rows():\n",
    "        i+=1\n",
    "        if row[34].value==Which_to_find:\n",
    "            values=[cell.value for cell in row]\n",
    "            sheet_target.append(values)\n",
    "        else:\n",
    "            print(f\"row number {i} has been skipped!\")\n",
    "    wb_target.save(New_Sheet_Name+'.xlsx')\n",
    "\n",
    "if __name__ ==\"__main__\":\n",
    "    i=0\n",
    "    main(i)"
   ]
  },
  {
   "cell_type": "code",
   "execution_count": null,
   "id": "04d390f2",
   "metadata": {},
   "outputs": [],
   "source": []
  }
 ],
 "metadata": {
  "kernelspec": {
   "display_name": "Python 3 (ipykernel)",
   "language": "python",
   "name": "python3"
  },
  "language_info": {
   "codemirror_mode": {
    "name": "ipython",
    "version": 3
   },
   "file_extension": ".py",
   "mimetype": "text/x-python",
   "name": "python",
   "nbconvert_exporter": "python",
   "pygments_lexer": "ipython3",
   "version": "3.9.12"
  }
 },
 "nbformat": 4,
 "nbformat_minor": 5
}
